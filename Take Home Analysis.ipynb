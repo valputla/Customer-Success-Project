{
 "cells": [
  {
   "cell_type": "code",
   "execution_count": 231,
   "id": "8f0f23d1",
   "metadata": {},
   "outputs": [],
   "source": [
    "import pandas as pd\n",
    "from matplotlib import pyplot as plt\n",
    "import numpy as np\n",
    "import seaborn as sns"
   ]
  },
  {
   "cell_type": "code",
   "execution_count": 232,
   "id": "4c56fca7",
   "metadata": {},
   "outputs": [],
   "source": [
    "# Import CSV files\n",
    "q1_monthly_user_scores = pd.read_csv(\"/Users/lindseyvalput/Desktop/Customer-Success-Team-Project/Data/q1_monthly_user_scores.csv\")\n",
    "q1_user_groups = pd.read_csv(\"/Users/lindseyvalput/Desktop/Customer-Success-Team-Project/Data/q1_user_groups.csv\")\n",
    "q2_visits_length_of_stay = pd.read_csv(\"/Users/lindseyvalput/Desktop/Customer-Success-Team-Project/Data/q2_visits_length_of_stay.csv\")\n",
    "q3_user_scores = pd.read_csv(\"/Users/lindseyvalput/Desktop/Customer-Success-Team-Project/Data/q3_user_scores.csv\")\n",
    "q4_client_monthly_los = pd.read_csv(\"/Users/lindseyvalput/Desktop/Customer-Success-Team-Project/Data/q4_client_monthly_los.csv\")\n",
    "q4_covid_census = pd.read_csv(\"/Users/lindseyvalput/Desktop/Customer-Success-Team-Project/Data/q4_covid_census.csv\")\n"
   ]
  },
  {
   "cell_type": "code",
   "execution_count": 233,
   "id": "f7ac149f",
   "metadata": {},
   "outputs": [
    {
     "data": {
      "text/html": [
       "<div>\n",
       "<style scoped>\n",
       "    .dataframe tbody tr th:only-of-type {\n",
       "        vertical-align: middle;\n",
       "    }\n",
       "\n",
       "    .dataframe tbody tr th {\n",
       "        vertical-align: top;\n",
       "    }\n",
       "\n",
       "    .dataframe thead th {\n",
       "        text-align: right;\n",
       "    }\n",
       "</style>\n",
       "<table border=\"1\" class=\"dataframe\">\n",
       "  <thead>\n",
       "    <tr style=\"text-align: right;\">\n",
       "      <th></th>\n",
       "      <th>encounter_id</th>\n",
       "      <th>length_of_stay</th>\n",
       "      <th>date</th>\n",
       "      <th>user_id</th>\n",
       "    </tr>\n",
       "  </thead>\n",
       "  <tbody>\n",
       "    <tr>\n",
       "      <th>0</th>\n",
       "      <td>166360</td>\n",
       "      <td>0.897061</td>\n",
       "      <td>2022-01-01</td>\n",
       "      <td>2</td>\n",
       "    </tr>\n",
       "    <tr>\n",
       "      <th>1</th>\n",
       "      <td>165739</td>\n",
       "      <td>9.259950</td>\n",
       "      <td>2022-01-01</td>\n",
       "      <td>2</td>\n",
       "    </tr>\n",
       "    <tr>\n",
       "      <th>2</th>\n",
       "      <td>166112</td>\n",
       "      <td>1.155417</td>\n",
       "      <td>2022-01-01</td>\n",
       "      <td>5</td>\n",
       "    </tr>\n",
       "    <tr>\n",
       "      <th>3</th>\n",
       "      <td>165902</td>\n",
       "      <td>1.614640</td>\n",
       "      <td>2022-01-01</td>\n",
       "      <td>1</td>\n",
       "    </tr>\n",
       "    <tr>\n",
       "      <th>4</th>\n",
       "      <td>166349</td>\n",
       "      <td>2.101197</td>\n",
       "      <td>2022-01-01</td>\n",
       "      <td>3</td>\n",
       "    </tr>\n",
       "  </tbody>\n",
       "</table>\n",
       "</div>"
      ],
      "text/plain": [
       "   encounter_id  length_of_stay        date  user_id\n",
       "0        166360        0.897061  2022-01-01        2\n",
       "1        165739        9.259950  2022-01-01        2\n",
       "2        166112        1.155417  2022-01-01        5\n",
       "3        165902        1.614640  2022-01-01        1\n",
       "4        166349        2.101197  2022-01-01        3"
      ]
     },
     "execution_count": 233,
     "metadata": {},
     "output_type": "execute_result"
    }
   ],
   "source": [
    "q2_visits_length_of_stay.head()"
   ]
  },
  {
   "cell_type": "code",
   "execution_count": 234,
   "id": "03adfc72",
   "metadata": {},
   "outputs": [
    {
     "data": {
      "text/plain": [
       "2022-01-01    1094\n",
       "2022-02-01    1003\n",
       "Name: date, dtype: int64"
      ]
     },
     "execution_count": 234,
     "metadata": {},
     "output_type": "execute_result"
    }
   ],
   "source": [
    "# Examine how much data exists in each date provided to evaluate if \n",
    "# they are relatively equal groups.\n",
    "q2_visits_length_of_stay[\"date\"].value_counts()"
   ]
  },
  {
   "cell_type": "code",
   "execution_count": 235,
   "id": "b6be3e25",
   "metadata": {},
   "outputs": [],
   "source": [
    "# Create df with dates separated and calculate average LOS.\n",
    "q2_visits_length_of_stay[[\"year\", \"month\", \"date\"]] = q2_visits_length_of_stay[\"date\"].str.split(\"-\", expand = True)\n",
    "q2_months_los = q2_visits_length_of_stay.groupby([\"month\", \"user_id\"])[\"length_of_stay\"].mean()\n",
    "q2_months_los = pd.DataFrame(q2_months_los)\n"
   ]
  },
  {
   "cell_type": "code",
   "execution_count": 236,
   "id": "f495d4d6",
   "metadata": {},
   "outputs": [
    {
     "data": {
      "text/html": [
       "<div>\n",
       "<style scoped>\n",
       "    .dataframe tbody tr th:only-of-type {\n",
       "        vertical-align: middle;\n",
       "    }\n",
       "\n",
       "    .dataframe tbody tr th {\n",
       "        vertical-align: top;\n",
       "    }\n",
       "\n",
       "    .dataframe thead th {\n",
       "        text-align: right;\n",
       "    }\n",
       "</style>\n",
       "<table border=\"1\" class=\"dataframe\">\n",
       "  <thead>\n",
       "    <tr style=\"text-align: right;\">\n",
       "      <th></th>\n",
       "      <th>month</th>\n",
       "      <th>user_id</th>\n",
       "      <th>length_of_stay</th>\n",
       "    </tr>\n",
       "  </thead>\n",
       "  <tbody>\n",
       "    <tr>\n",
       "      <th>0</th>\n",
       "      <td>01</td>\n",
       "      <td>1</td>\n",
       "      <td>3.727297</td>\n",
       "    </tr>\n",
       "    <tr>\n",
       "      <th>1</th>\n",
       "      <td>01</td>\n",
       "      <td>2</td>\n",
       "      <td>3.971378</td>\n",
       "    </tr>\n",
       "    <tr>\n",
       "      <th>2</th>\n",
       "      <td>01</td>\n",
       "      <td>3</td>\n",
       "      <td>3.988581</td>\n",
       "    </tr>\n",
       "    <tr>\n",
       "      <th>3</th>\n",
       "      <td>01</td>\n",
       "      <td>4</td>\n",
       "      <td>4.146854</td>\n",
       "    </tr>\n",
       "    <tr>\n",
       "      <th>4</th>\n",
       "      <td>01</td>\n",
       "      <td>5</td>\n",
       "      <td>3.932500</td>\n",
       "    </tr>\n",
       "    <tr>\n",
       "      <th>5</th>\n",
       "      <td>01</td>\n",
       "      <td>6</td>\n",
       "      <td>3.785016</td>\n",
       "    </tr>\n",
       "    <tr>\n",
       "      <th>6</th>\n",
       "      <td>01</td>\n",
       "      <td>7</td>\n",
       "      <td>4.106078</td>\n",
       "    </tr>\n",
       "    <tr>\n",
       "      <th>7</th>\n",
       "      <td>01</td>\n",
       "      <td>8</td>\n",
       "      <td>3.604529</td>\n",
       "    </tr>\n",
       "    <tr>\n",
       "      <th>8</th>\n",
       "      <td>01</td>\n",
       "      <td>9</td>\n",
       "      <td>4.099504</td>\n",
       "    </tr>\n",
       "    <tr>\n",
       "      <th>9</th>\n",
       "      <td>01</td>\n",
       "      <td>10</td>\n",
       "      <td>3.718854</td>\n",
       "    </tr>\n",
       "    <tr>\n",
       "      <th>10</th>\n",
       "      <td>02</td>\n",
       "      <td>1</td>\n",
       "      <td>5.263547</td>\n",
       "    </tr>\n",
       "    <tr>\n",
       "      <th>11</th>\n",
       "      <td>02</td>\n",
       "      <td>2</td>\n",
       "      <td>3.832899</td>\n",
       "    </tr>\n",
       "    <tr>\n",
       "      <th>12</th>\n",
       "      <td>02</td>\n",
       "      <td>3</td>\n",
       "      <td>3.813862</td>\n",
       "    </tr>\n",
       "    <tr>\n",
       "      <th>13</th>\n",
       "      <td>02</td>\n",
       "      <td>4</td>\n",
       "      <td>4.054415</td>\n",
       "    </tr>\n",
       "    <tr>\n",
       "      <th>14</th>\n",
       "      <td>02</td>\n",
       "      <td>5</td>\n",
       "      <td>3.784443</td>\n",
       "    </tr>\n",
       "    <tr>\n",
       "      <th>15</th>\n",
       "      <td>02</td>\n",
       "      <td>6</td>\n",
       "      <td>3.662581</td>\n",
       "    </tr>\n",
       "    <tr>\n",
       "      <th>16</th>\n",
       "      <td>02</td>\n",
       "      <td>7</td>\n",
       "      <td>3.967795</td>\n",
       "    </tr>\n",
       "    <tr>\n",
       "      <th>17</th>\n",
       "      <td>02</td>\n",
       "      <td>8</td>\n",
       "      <td>3.740141</td>\n",
       "    </tr>\n",
       "    <tr>\n",
       "      <th>18</th>\n",
       "      <td>02</td>\n",
       "      <td>9</td>\n",
       "      <td>4.228852</td>\n",
       "    </tr>\n",
       "    <tr>\n",
       "      <th>19</th>\n",
       "      <td>02</td>\n",
       "      <td>10</td>\n",
       "      <td>4.454070</td>\n",
       "    </tr>\n",
       "  </tbody>\n",
       "</table>\n",
       "</div>"
      ],
      "text/plain": [
       "   month  user_id  length_of_stay\n",
       "0     01        1        3.727297\n",
       "1     01        2        3.971378\n",
       "2     01        3        3.988581\n",
       "3     01        4        4.146854\n",
       "4     01        5        3.932500\n",
       "5     01        6        3.785016\n",
       "6     01        7        4.106078\n",
       "7     01        8        3.604529\n",
       "8     01        9        4.099504\n",
       "9     01       10        3.718854\n",
       "10    02        1        5.263547\n",
       "11    02        2        3.832899\n",
       "12    02        3        3.813862\n",
       "13    02        4        4.054415\n",
       "14    02        5        3.784443\n",
       "15    02        6        3.662581\n",
       "16    02        7        3.967795\n",
       "17    02        8        3.740141\n",
       "18    02        9        4.228852\n",
       "19    02       10        4.454070"
      ]
     },
     "execution_count": 236,
     "metadata": {},
     "output_type": "execute_result"
    }
   ],
   "source": [
    "q2_months_los = q2_months_los.reset_index()\n",
    "q2_months_los"
   ]
  },
  {
   "cell_type": "code",
   "execution_count": 237,
   "id": "2743c3f6",
   "metadata": {},
   "outputs": [],
   "source": [
    "q2_months_los_jan = q2_months_los.loc[q2_months_los[\"month\"] == \"01\", :]\n",
    "q2_months_los_feb = q2_months_los.loc[q2_months_los[\"month\"] == \"02\", :]"
   ]
  },
  {
   "cell_type": "code",
   "execution_count": 239,
   "id": "54e9b35b",
   "metadata": {},
   "outputs": [
    {
     "data": {
      "image/png": "[encoded data removed]",
      "text/plain": [
       "<Figure size 432x288 with 1 Axes>"
      ]
     },
     "metadata": {
      "needs_background": "light"
     },
     "output_type": "display_data"
    }
   ],
   "source": [
    "# Plot LOS for January\n",
    "plt.bar(q2_months_los_jan[\"user_id\"], q2_months_los_jan[\"length_of_stay\"], \n",
    "        color=['red', 'black', 'black', 'black', 'black', 'black', 'black', 'black', 'black', 'black'])\n",
    "plt.title(\"Length of Stay by User ID in January\")\n",
    "plt.xlabel(\"User ID\")\n",
    "plt.ylabel(\"Average Length of Stay (Days)\")\n",
    "plt.ylim(0,6)\n",
    "plt.xticks(np.arange(0, 11, step=1))\n",
    "plt.savefig(\"../Customer-Success-Team-Project/Images/LOSjan.png\")\n",
    "plt.show()\n"
   ]
  },
  {
   "cell_type": "code",
   "execution_count": 240,
   "id": "aaad8757",
   "metadata": {},
   "outputs": [
    {
     "data": {
      "image/png": "[encoded data removed]",
      "text/plain": [
       "<Figure size 432x288 with 1 Axes>"
      ]
     },
     "metadata": {
      "needs_background": "light"
     },
     "output_type": "display_data"
    }
   ],
   "source": [
    "# Plot LOS for February\n",
    "plt.bar(q2_months_los_feb[\"user_id\"], q2_months_los_feb[\"length_of_stay\"],\n",
    "        color=['red', 'black', 'black', 'black', 'black', 'black', 'black', 'black', 'black', 'black'])\n",
    "plt.title(\"Length of Stay by User ID in February\")\n",
    "plt.xlabel(\"User ID\")\n",
    "plt.ylabel(\"Average Length of Stay (Days)\")\n",
    "plt.xticks(np.arange(0, 11, step=1))\n",
    "plt.ylim(0,6)\n",
    "plt.savefig(\"../Customer-Success-Team-Project/Images/LOSfeb.png\")\n",
    "plt.show()\n"
   ]
  },
  {
   "cell_type": "code",
   "execution_count": 241,
   "id": "365b34e0",
   "metadata": {},
   "outputs": [
    {
     "data": {
      "text/plain": [
       "1    24\n",
       "3    23\n",
       "4    20\n",
       "2    18\n",
       "Name: group_id, dtype: int64"
      ]
     },
     "execution_count": 241,
     "metadata": {},
     "output_type": "execute_result"
    }
   ],
   "source": [
    "# Determine how many users are in each group\n",
    "q1_user_groups_value_counts = q1_user_groups[\"group_id\"].value_counts()\n",
    "q1_user_groups_value_counts"
   ]
  },
  {
   "cell_type": "code",
   "execution_count": 242,
   "id": "208e9817",
   "metadata": {},
   "outputs": [
    {
     "data": {
      "image/png": "[encoded data removed]",
      "text/plain": [
       "<Figure size 432x288 with 1 Axes>"
      ]
     },
     "metadata": {
      "needs_background": "light"
     },
     "output_type": "display_data"
    }
   ],
   "source": [
    "# Plot numbers of users per group\n",
    "q1_user_groups_value_counts.plot.bar()\n",
    "plt.xticks(rotation=0, horizontalalignment=\"center\")\n",
    "plt.title(\"Number of Users per Group ID\")\n",
    "plt.xlabel(\"Group ID\")\n",
    "plt.ylabel(\"Number of Users\")\n",
    "plt.savefig(\"../Customer-Success-Team-Project/Images/NumberofUsersperGroupID.png\")\n",
    "plt.show()"
   ]
  },
  {
   "cell_type": "markdown",
   "id": "3bce8894",
   "metadata": {},
   "source": [
    "### Observations:\n",
    "\n",
    "● User_ID 1 had a higher average length of stay in February as compared to other user_ids. This is an increase from length of stay in January, which is similiar to other user_ids. \n",
    "\n",
    "● User_ID 1 is assigned to Group 1, which has the most users (24) across the four groups. \n",
    "\n",
    "● Given Group 1 (which contains User_ID 1) has the most users, it is likely this is the root cause for a higher average length of stay when compared to other groups with less user_ids. \n",
    "\n",
    "● To implement a fairer way to measure user average length of stay, it is important to look at how users are grouped together and that sample sizes are relatively close to ensure a larger group size is not inherently driving the average length of stay to increase."
   ]
  },
  {
   "cell_type": "code",
   "execution_count": 243,
   "id": "0437fd65",
   "metadata": {},
   "outputs": [
    {
     "data": {
      "text/html": [
       "<div>\n",
       "<style scoped>\n",
       "    .dataframe tbody tr th:only-of-type {\n",
       "        vertical-align: middle;\n",
       "    }\n",
       "\n",
       "    .dataframe tbody tr th {\n",
       "        vertical-align: top;\n",
       "    }\n",
       "\n",
       "    .dataframe thead th {\n",
       "        text-align: right;\n",
       "    }\n",
       "</style>\n",
       "<table border=\"1\" class=\"dataframe\">\n",
       "  <thead>\n",
       "    <tr style=\"text-align: right;\">\n",
       "      <th></th>\n",
       "      <th>user_id</th>\n",
       "      <th>score</th>\n",
       "      <th>sample_size</th>\n",
       "      <th>date</th>\n",
       "    </tr>\n",
       "  </thead>\n",
       "  <tbody>\n",
       "    <tr>\n",
       "      <th>0</th>\n",
       "      <td>3.0</td>\n",
       "      <td>1.95</td>\n",
       "      <td>90.0</td>\n",
       "      <td>2020-01-01</td>\n",
       "    </tr>\n",
       "    <tr>\n",
       "      <th>1</th>\n",
       "      <td>17.0</td>\n",
       "      <td>1.76</td>\n",
       "      <td>88.0</td>\n",
       "      <td>2020-01-01</td>\n",
       "    </tr>\n",
       "    <tr>\n",
       "      <th>2</th>\n",
       "      <td>3.0</td>\n",
       "      <td>1.83</td>\n",
       "      <td>119.0</td>\n",
       "      <td>2020-02-01</td>\n",
       "    </tr>\n",
       "    <tr>\n",
       "      <th>3</th>\n",
       "      <td>17.0</td>\n",
       "      <td>1.81</td>\n",
       "      <td>105.0</td>\n",
       "      <td>2020-02-01</td>\n",
       "    </tr>\n",
       "    <tr>\n",
       "      <th>4</th>\n",
       "      <td>3.0</td>\n",
       "      <td>2.11</td>\n",
       "      <td>113.0</td>\n",
       "      <td>2020-03-01</td>\n",
       "    </tr>\n",
       "  </tbody>\n",
       "</table>\n",
       "</div>"
      ],
      "text/plain": [
       "   user_id  score  sample_size        date\n",
       "0      3.0   1.95         90.0  2020-01-01\n",
       "1     17.0   1.76         88.0  2020-01-01\n",
       "2      3.0   1.83        119.0  2020-02-01\n",
       "3     17.0   1.81        105.0  2020-02-01\n",
       "4      3.0   2.11        113.0  2020-03-01"
      ]
     },
     "execution_count": 243,
     "metadata": {},
     "output_type": "execute_result"
    }
   ],
   "source": [
    "q3_user_scores.head()"
   ]
  },
  {
   "cell_type": "code",
   "execution_count": 263,
   "id": "2f8e27b3",
   "metadata": {},
   "outputs": [],
   "source": [
    "# Calculate average scores\n",
    "q3_user_scores = q3_user_scores.groupby([\"user_id\"])[\"score\"].mean()"
   ]
  },
  {
   "cell_type": "code",
   "execution_count": 264,
   "id": "3cfc7b75",
   "metadata": {},
   "outputs": [
    {
     "data": {
      "text/html": [
       "<div>\n",
       "<style scoped>\n",
       "    .dataframe tbody tr th:only-of-type {\n",
       "        vertical-align: middle;\n",
       "    }\n",
       "\n",
       "    .dataframe tbody tr th {\n",
       "        vertical-align: top;\n",
       "    }\n",
       "\n",
       "    .dataframe thead th {\n",
       "        text-align: right;\n",
       "    }\n",
       "</style>\n",
       "<table border=\"1\" class=\"dataframe\">\n",
       "  <thead>\n",
       "    <tr style=\"text-align: right;\">\n",
       "      <th></th>\n",
       "      <th>score</th>\n",
       "    </tr>\n",
       "    <tr>\n",
       "      <th>user_id</th>\n",
       "      <th></th>\n",
       "    </tr>\n",
       "  </thead>\n",
       "  <tbody>\n",
       "    <tr>\n",
       "      <th>17.0</th>\n",
       "      <td>1.880000</td>\n",
       "    </tr>\n",
       "    <tr>\n",
       "      <th>3.0</th>\n",
       "      <td>1.963333</td>\n",
       "    </tr>\n",
       "    <tr>\n",
       "      <th>4.0</th>\n",
       "      <td>4.183333</td>\n",
       "    </tr>\n",
       "    <tr>\n",
       "      <th>11.0</th>\n",
       "      <td>4.226667</td>\n",
       "    </tr>\n",
       "    <tr>\n",
       "      <th>10.0</th>\n",
       "      <td>4.256667</td>\n",
       "    </tr>\n",
       "    <tr>\n",
       "      <th>8.0</th>\n",
       "      <td>4.683333</td>\n",
       "    </tr>\n",
       "    <tr>\n",
       "      <th>12.0</th>\n",
       "      <td>4.860000</td>\n",
       "    </tr>\n",
       "    <tr>\n",
       "      <th>15.0</th>\n",
       "      <td>4.876667</td>\n",
       "    </tr>\n",
       "    <tr>\n",
       "      <th>2.0</th>\n",
       "      <td>5.020000</td>\n",
       "    </tr>\n",
       "    <tr>\n",
       "      <th>6.0</th>\n",
       "      <td>5.126667</td>\n",
       "    </tr>\n",
       "    <tr>\n",
       "      <th>18.0</th>\n",
       "      <td>5.173333</td>\n",
       "    </tr>\n",
       "    <tr>\n",
       "      <th>1.0</th>\n",
       "      <td>5.206667</td>\n",
       "    </tr>\n",
       "    <tr>\n",
       "      <th>5.0</th>\n",
       "      <td>5.733333</td>\n",
       "    </tr>\n",
       "    <tr>\n",
       "      <th>0.0</th>\n",
       "      <td>6.183333</td>\n",
       "    </tr>\n",
       "    <tr>\n",
       "      <th>16.0</th>\n",
       "      <td>6.293333</td>\n",
       "    </tr>\n",
       "    <tr>\n",
       "      <th>14.0</th>\n",
       "      <td>6.430000</td>\n",
       "    </tr>\n",
       "    <tr>\n",
       "      <th>9.0</th>\n",
       "      <td>7.590000</td>\n",
       "    </tr>\n",
       "    <tr>\n",
       "      <th>19.0</th>\n",
       "      <td>7.860000</td>\n",
       "    </tr>\n",
       "    <tr>\n",
       "      <th>7.0</th>\n",
       "      <td>7.890000</td>\n",
       "    </tr>\n",
       "    <tr>\n",
       "      <th>13.0</th>\n",
       "      <td>8.366667</td>\n",
       "    </tr>\n",
       "  </tbody>\n",
       "</table>\n",
       "</div>"
      ],
      "text/plain": [
       "            score\n",
       "user_id          \n",
       "17.0     1.880000\n",
       "3.0      1.963333\n",
       "4.0      4.183333\n",
       "11.0     4.226667\n",
       "10.0     4.256667\n",
       "8.0      4.683333\n",
       "12.0     4.860000\n",
       "15.0     4.876667\n",
       "2.0      5.020000\n",
       "6.0      5.126667\n",
       "18.0     5.173333\n",
       "1.0      5.206667\n",
       "5.0      5.733333\n",
       "0.0      6.183333\n",
       "16.0     6.293333\n",
       "14.0     6.430000\n",
       "9.0      7.590000\n",
       "19.0     7.860000\n",
       "7.0      7.890000\n",
       "13.0     8.366667"
      ]
     },
     "execution_count": 264,
     "metadata": {},
     "output_type": "execute_result"
    }
   ],
   "source": [
    "q3_user_scores = pd.DataFrame(q3_user_scores).sort_values(by=[\"score\"])\n",
    "q3_user_scores"
   ]
  },
  {
   "cell_type": "code",
   "execution_count": 246,
   "id": "f8445c7f",
   "metadata": {},
   "outputs": [
    {
     "data": {
      "image/png": "[encoded data removed]",
      "text/plain": [
       "<Figure size 432x288 with 1 Axes>"
      ]
     },
     "metadata": {
      "needs_background": "light"
     },
     "output_type": "display_data"
    }
   ],
   "source": [
    "# Plot User Scores\n",
    "q3_user_scores.plot(kind=\"barh\")\n",
    "plt.title(\"Average User Score for Jan-Mar\")\n",
    "plt.xlabel(\"Average Score\")\n",
    "plt.ylabel(\"User_ID\")\n",
    "plt.savefig(\"../Customer-Success-Team-Project/Images/BottomPerformers.png\")\n",
    "plt.show()"
   ]
  },
  {
   "cell_type": "markdown",
   "id": "7c81d8a8",
   "metadata": {},
   "source": [
    "### Observations:\n",
    "\n",
    "● User_IDs: 17, 3, and 4 are the bottom performers for this 3 month period.\n",
    "\n",
    "● The average user scores were calculated and then plotted to quickly visualize the bottom and top User_IDs.\n",
    "\n",
    "● User_IDs 17 and 3 has a notably lower performance rate as compared to the group as a whole. While User_ID 4 is in the bottom three performers (with an average score of 4.18,) their performance is not as low as User IDs 17 and 3 (1.88 and 1.96, respectively.)\n"
   ]
  },
  {
   "cell_type": "code",
   "execution_count": 247,
   "id": "892a312a",
   "metadata": {},
   "outputs": [
    {
     "data": {
      "text/plain": [
       "0     2020-03-06\n",
       "1     2020-03-07\n",
       "2     2020-03-08\n",
       "3     2020-03-09\n",
       "4     2020-03-10\n",
       "         ...    \n",
       "661   2021-12-27\n",
       "662   2021-12-28\n",
       "663   2021-12-29\n",
       "664   2021-12-30\n",
       "665   2021-12-31\n",
       "Name: date, Length: 666, dtype: datetime64[ns]"
      ]
     },
     "execution_count": 247,
     "metadata": {},
     "output_type": "execute_result"
    }
   ],
   "source": [
    "date_time = q4_covid_census[\"date\"]\n",
    "date_time_df = pd.to_datetime(date_time)\n",
    "date_time_df "
   ]
  },
  {
   "cell_type": "code",
   "execution_count": 256,
   "id": "66e4f914",
   "metadata": {},
   "outputs": [
    {
     "data": {
      "image/png": "[encoded data removed]",
      "text/plain": [
       "<Figure size 576x576 with 1 Axes>"
      ]
     },
     "metadata": {
      "needs_background": "light"
     },
     "output_type": "display_data"
    }
   ],
   "source": [
    "# Plot COVID cases\n",
    "f, ax = plt.subplots(figsize = (8,8))\n",
    "plt.plot(date_time_df, q4_covid_census[\"cases\"], 'g')\n",
    "plt.xticks(rotation=50, horizontalalignment=\"center\")\n",
    "plt.title(\"COVID-19 Cases from March 2020 - Dec 2021\")\n",
    "plt.xlabel(\"Date\")\n",
    "plt.ylabel(\"COVID Cases\")\n",
    "plt.savefig(\"../Customer-Success-Team-Project/Images/COVIDcases.png\")\n",
    "plt.show()"
   ]
  },
  {
   "cell_type": "code",
   "execution_count": 249,
   "id": "37ca317b",
   "metadata": {},
   "outputs": [
    {
     "data": {
      "text/plain": [
       "0    2020-03-31\n",
       "1    2020-04-30\n",
       "2    2020-05-31\n",
       "3    2020-06-30\n",
       "4    2020-07-31\n",
       "5    2020-08-31\n",
       "6    2020-09-30\n",
       "7    2020-10-31\n",
       "8    2020-11-30\n",
       "9    2020-12-31\n",
       "10   2021-01-31\n",
       "11   2021-02-28\n",
       "12   2021-03-31\n",
       "13   2021-04-30\n",
       "14   2021-05-31\n",
       "15   2021-06-30\n",
       "16   2021-07-31\n",
       "17   2021-08-31\n",
       "18   2021-09-30\n",
       "19   2021-10-31\n",
       "20   2021-11-30\n",
       "21   2021-12-31\n",
       "Name: date, dtype: datetime64[ns]"
      ]
     },
     "execution_count": 249,
     "metadata": {},
     "output_type": "execute_result"
    }
   ],
   "source": [
    "date_time_los = q4_client_monthly_los[\"date\"]\n",
    "date_time_los = pd.to_datetime(date_time_los)\n",
    "date_time_los "
   ]
  },
  {
   "cell_type": "code",
   "execution_count": 260,
   "id": "526f949b",
   "metadata": {},
   "outputs": [
    {
     "data": {
      "image/png": "[encoded data removed]",
      "text/plain": [
       "<Figure size 576x576 with 1 Axes>"
      ]
     },
     "metadata": {
      "needs_background": "light"
     },
     "output_type": "display_data"
    }
   ],
   "source": [
    "# Plot LOS\n",
    "f, ax = plt.subplots(figsize = (8,8))\n",
    "plt.plot(date_time_los, q4_client_monthly_los[\"length_of_stay\"], 'g')\n",
    "plt.xticks(rotation=50, horizontalalignment=\"center\")\n",
    "plt.title(\"Average Length of Stay from March 2020 - Dec 2021\")\n",
    "plt.xlabel(\"Date\")\n",
    "plt.ylabel(\"Length of Stay (LOS)\")\n",
    "plt.savefig(\"../Customer-Success-Team-Project/Images/LOS.png\")\n",
    "plt.show()"
   ]
  },
  {
   "cell_type": "markdown",
   "id": "ea6af304",
   "metadata": {},
   "source": [
    "### Observations:\n",
    "\n",
    "● When comparing covid cases and average length of stay (LOS) over the same time period, it is plausible that COVID-19 contributed to the variability and rise in LOS.\n",
    "\n",
    "● While the LOS varies greatly and COVID cases steadily increase, it is important to clarify that COVID could be an impacting factor though not the sole cause of the variance in LOS."
   ]
  }
 ],
 "metadata": {
  "kernelspec": {
   "display_name": "Python 3",
   "language": "python",
   "name": "python3"
  },
  "language_info": {
   "codemirror_mode": {
    "name": "ipython",
    "version": 3
   },
   "file_extension": ".py",
   "mimetype": "text/x-python",
   "name": "python",
   "nbconvert_exporter": "python",
   "pygments_lexer": "ipython3",
   "version": "3.8.8"
  }
 },
 "nbformat": 4,
 "nbformat_minor": 5
}
