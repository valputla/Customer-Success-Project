{
 "cells": [
  {
   "cell_type": "code",
   "execution_count": 107,
   "id": "efa69b4f",
   "metadata": {},
   "outputs": [],
   "source": [
    "import pandas as pd\n",
    "from matplotlib import pyplot as plt\n",
    "import numpy as np"
   ]
  },
  {
   "cell_type": "code",
   "execution_count": 108,
   "id": "d11d151c",
   "metadata": {},
   "outputs": [],
   "source": [
    "#Import CSV files\n",
    "q1_monthly_user_scores = pd.read_csv(\"/Users/lindseyvalput/Desktop/Customer-Success-Team-Project/Data/q1_monthly_user_scores.csv\")\n",
    "q1_user_groups = pd.read_csv(\"/Users/lindseyvalput/Desktop/Customer-Success-Team-Project/Data/q1_user_groups.csv\")\n",
    "q2_visits_length_of_stay = pd.read_csv(\"/Users/lindseyvalput/Desktop/Customer-Success-Team-Project/Data/q2_visits_length_of_stay.csv\")\n",
    "q3_user_scores = pd.read_csv(\"/Users/lindseyvalput/Desktop/Customer-Success-Team-Project/Data/q3_user_scores.csv\")\n",
    "q4_client_monthly_los = pd.read_csv(\"/Users/lindseyvalput/Desktop/Customer-Success-Team-Project/Data/q4_client_monthly_los.csv\")\n",
    "q4_covid_census = pd.read_csv(\"/Users/lindseyvalput/Desktop/Customer-Success-Team-Project/Data/q4_covid_census.csv\")\n"
   ]
  },
  {
   "cell_type": "code",
   "execution_count": 109,
   "id": "b51adeee",
   "metadata": {},
   "outputs": [
    {
     "data": {
      "text/html": [
       "<div>\n",
       "<style scoped>\n",
       "    .dataframe tbody tr th:only-of-type {\n",
       "        vertical-align: middle;\n",
       "    }\n",
       "\n",
       "    .dataframe tbody tr th {\n",
       "        vertical-align: top;\n",
       "    }\n",
       "\n",
       "    .dataframe thead th {\n",
       "        text-align: right;\n",
       "    }\n",
       "</style>\n",
       "<table border=\"1\" class=\"dataframe\">\n",
       "  <thead>\n",
       "    <tr style=\"text-align: right;\">\n",
       "      <th></th>\n",
       "      <th>encounter_id</th>\n",
       "      <th>length_of_stay</th>\n",
       "      <th>date</th>\n",
       "      <th>user_id</th>\n",
       "    </tr>\n",
       "  </thead>\n",
       "  <tbody>\n",
       "    <tr>\n",
       "      <th>0</th>\n",
       "      <td>166360</td>\n",
       "      <td>0.897061</td>\n",
       "      <td>2022-01-01</td>\n",
       "      <td>2</td>\n",
       "    </tr>\n",
       "    <tr>\n",
       "      <th>1</th>\n",
       "      <td>165739</td>\n",
       "      <td>9.259950</td>\n",
       "      <td>2022-01-01</td>\n",
       "      <td>2</td>\n",
       "    </tr>\n",
       "    <tr>\n",
       "      <th>2</th>\n",
       "      <td>166112</td>\n",
       "      <td>1.155417</td>\n",
       "      <td>2022-01-01</td>\n",
       "      <td>5</td>\n",
       "    </tr>\n",
       "    <tr>\n",
       "      <th>3</th>\n",
       "      <td>165902</td>\n",
       "      <td>1.614640</td>\n",
       "      <td>2022-01-01</td>\n",
       "      <td>1</td>\n",
       "    </tr>\n",
       "    <tr>\n",
       "      <th>4</th>\n",
       "      <td>166349</td>\n",
       "      <td>2.101197</td>\n",
       "      <td>2022-01-01</td>\n",
       "      <td>3</td>\n",
       "    </tr>\n",
       "  </tbody>\n",
       "</table>\n",
       "</div>"
      ],
      "text/plain": [
       "   encounter_id  length_of_stay        date  user_id\n",
       "0        166360        0.897061  2022-01-01        2\n",
       "1        165739        9.259950  2022-01-01        2\n",
       "2        166112        1.155417  2022-01-01        5\n",
       "3        165902        1.614640  2022-01-01        1\n",
       "4        166349        2.101197  2022-01-01        3"
      ]
     },
     "execution_count": 109,
     "metadata": {},
     "output_type": "execute_result"
    }
   ],
   "source": [
    "q2_visits_length_of_stay.head()"
   ]
  },
  {
   "cell_type": "code",
   "execution_count": 110,
   "id": "998256e2",
   "metadata": {},
   "outputs": [
    {
     "data": {
      "text/plain": [
       "2022-01-01    1094\n",
       "2022-02-01    1003\n",
       "Name: date, dtype: int64"
      ]
     },
     "execution_count": 110,
     "metadata": {},
     "output_type": "execute_result"
    }
   ],
   "source": [
    "q2_visits_length_of_stay[\"date\"].value_counts()"
   ]
  },
  {
   "cell_type": "code",
   "execution_count": 111,
   "id": "e32d3393",
   "metadata": {},
   "outputs": [],
   "source": [
    "q2_visits_length_of_stay[[\"year\", \"month\", \"date\"]] = q2_visits_length_of_stay[\"date\"].str.split(\"-\", expand = True)\n",
    "q2_months_los = q2_visits_length_of_stay.groupby([\"month\", \"user_id\"])[\"length_of_stay\"].mean()\n",
    "q2_months_los = pd.DataFrame(q2_months_los)\n"
   ]
  },
  {
   "cell_type": "code",
   "execution_count": 112,
   "id": "ec766d40",
   "metadata": {},
   "outputs": [
    {
     "data": {
      "text/html": [
       "<div>\n",
       "<style scoped>\n",
       "    .dataframe tbody tr th:only-of-type {\n",
       "        vertical-align: middle;\n",
       "    }\n",
       "\n",
       "    .dataframe tbody tr th {\n",
       "        vertical-align: top;\n",
       "    }\n",
       "\n",
       "    .dataframe thead th {\n",
       "        text-align: right;\n",
       "    }\n",
       "</style>\n",
       "<table border=\"1\" class=\"dataframe\">\n",
       "  <thead>\n",
       "    <tr style=\"text-align: right;\">\n",
       "      <th></th>\n",
       "      <th>month</th>\n",
       "      <th>user_id</th>\n",
       "      <th>length_of_stay</th>\n",
       "    </tr>\n",
       "  </thead>\n",
       "  <tbody>\n",
       "    <tr>\n",
       "      <th>0</th>\n",
       "      <td>01</td>\n",
       "      <td>1</td>\n",
       "      <td>3.727297</td>\n",
       "    </tr>\n",
       "    <tr>\n",
       "      <th>1</th>\n",
       "      <td>01</td>\n",
       "      <td>2</td>\n",
       "      <td>3.971378</td>\n",
       "    </tr>\n",
       "    <tr>\n",
       "      <th>2</th>\n",
       "      <td>01</td>\n",
       "      <td>3</td>\n",
       "      <td>3.988581</td>\n",
       "    </tr>\n",
       "    <tr>\n",
       "      <th>3</th>\n",
       "      <td>01</td>\n",
       "      <td>4</td>\n",
       "      <td>4.146854</td>\n",
       "    </tr>\n",
       "    <tr>\n",
       "      <th>4</th>\n",
       "      <td>01</td>\n",
       "      <td>5</td>\n",
       "      <td>3.932500</td>\n",
       "    </tr>\n",
       "    <tr>\n",
       "      <th>5</th>\n",
       "      <td>01</td>\n",
       "      <td>6</td>\n",
       "      <td>3.785016</td>\n",
       "    </tr>\n",
       "    <tr>\n",
       "      <th>6</th>\n",
       "      <td>01</td>\n",
       "      <td>7</td>\n",
       "      <td>4.106078</td>\n",
       "    </tr>\n",
       "    <tr>\n",
       "      <th>7</th>\n",
       "      <td>01</td>\n",
       "      <td>8</td>\n",
       "      <td>3.604529</td>\n",
       "    </tr>\n",
       "    <tr>\n",
       "      <th>8</th>\n",
       "      <td>01</td>\n",
       "      <td>9</td>\n",
       "      <td>4.099504</td>\n",
       "    </tr>\n",
       "    <tr>\n",
       "      <th>9</th>\n",
       "      <td>01</td>\n",
       "      <td>10</td>\n",
       "      <td>3.718854</td>\n",
       "    </tr>\n",
       "    <tr>\n",
       "      <th>10</th>\n",
       "      <td>02</td>\n",
       "      <td>1</td>\n",
       "      <td>5.263547</td>\n",
       "    </tr>\n",
       "    <tr>\n",
       "      <th>11</th>\n",
       "      <td>02</td>\n",
       "      <td>2</td>\n",
       "      <td>3.832899</td>\n",
       "    </tr>\n",
       "    <tr>\n",
       "      <th>12</th>\n",
       "      <td>02</td>\n",
       "      <td>3</td>\n",
       "      <td>3.813862</td>\n",
       "    </tr>\n",
       "    <tr>\n",
       "      <th>13</th>\n",
       "      <td>02</td>\n",
       "      <td>4</td>\n",
       "      <td>4.054415</td>\n",
       "    </tr>\n",
       "    <tr>\n",
       "      <th>14</th>\n",
       "      <td>02</td>\n",
       "      <td>5</td>\n",
       "      <td>3.784443</td>\n",
       "    </tr>\n",
       "    <tr>\n",
       "      <th>15</th>\n",
       "      <td>02</td>\n",
       "      <td>6</td>\n",
       "      <td>3.662581</td>\n",
       "    </tr>\n",
       "    <tr>\n",
       "      <th>16</th>\n",
       "      <td>02</td>\n",
       "      <td>7</td>\n",
       "      <td>3.967795</td>\n",
       "    </tr>\n",
       "    <tr>\n",
       "      <th>17</th>\n",
       "      <td>02</td>\n",
       "      <td>8</td>\n",
       "      <td>3.740141</td>\n",
       "    </tr>\n",
       "    <tr>\n",
       "      <th>18</th>\n",
       "      <td>02</td>\n",
       "      <td>9</td>\n",
       "      <td>4.228852</td>\n",
       "    </tr>\n",
       "    <tr>\n",
       "      <th>19</th>\n",
       "      <td>02</td>\n",
       "      <td>10</td>\n",
       "      <td>4.454070</td>\n",
       "    </tr>\n",
       "  </tbody>\n",
       "</table>\n",
       "</div>"
      ],
      "text/plain": [
       "   month  user_id  length_of_stay\n",
       "0     01        1        3.727297\n",
       "1     01        2        3.971378\n",
       "2     01        3        3.988581\n",
       "3     01        4        4.146854\n",
       "4     01        5        3.932500\n",
       "5     01        6        3.785016\n",
       "6     01        7        4.106078\n",
       "7     01        8        3.604529\n",
       "8     01        9        4.099504\n",
       "9     01       10        3.718854\n",
       "10    02        1        5.263547\n",
       "11    02        2        3.832899\n",
       "12    02        3        3.813862\n",
       "13    02        4        4.054415\n",
       "14    02        5        3.784443\n",
       "15    02        6        3.662581\n",
       "16    02        7        3.967795\n",
       "17    02        8        3.740141\n",
       "18    02        9        4.228852\n",
       "19    02       10        4.454070"
      ]
     },
     "execution_count": 112,
     "metadata": {},
     "output_type": "execute_result"
    }
   ],
   "source": [
    "q2_months_los = q2_months_los.reset_index()\n",
    "q2_months_los"
   ]
  },
  {
   "cell_type": "code",
   "execution_count": 117,
   "id": "34d3d9f9",
   "metadata": {},
   "outputs": [],
   "source": [
    "q2_months_los_jan = q2_months_los.loc[q2_months_los[\"month\"] == \"01\", :]\n",
    "q2_months_los_feb = q2_months_los.loc[q2_months_los[\"month\"] == \"02\", :]"
   ]
  },
  {
   "cell_type": "code",
   "execution_count": 125,
   "id": "99997896",
   "metadata": {},
   "outputs": [
    {
     "data": {
      "text/html": [
       "<div>\n",
       "<style scoped>\n",
       "    .dataframe tbody tr th:only-of-type {\n",
       "        vertical-align: middle;\n",
       "    }\n",
       "\n",
       "    .dataframe tbody tr th {\n",
       "        vertical-align: top;\n",
       "    }\n",
       "\n",
       "    .dataframe thead th {\n",
       "        text-align: right;\n",
       "    }\n",
       "</style>\n",
       "<table border=\"1\" class=\"dataframe\">\n",
       "  <thead>\n",
       "    <tr style=\"text-align: right;\">\n",
       "      <th></th>\n",
       "      <th>month</th>\n",
       "      <th>user_id</th>\n",
       "      <th>length_of_stay</th>\n",
       "    </tr>\n",
       "  </thead>\n",
       "  <tbody>\n",
       "    <tr>\n",
       "      <th>10</th>\n",
       "      <td>02</td>\n",
       "      <td>1</td>\n",
       "      <td>5.263547</td>\n",
       "    </tr>\n",
       "    <tr>\n",
       "      <th>11</th>\n",
       "      <td>02</td>\n",
       "      <td>2</td>\n",
       "      <td>3.832899</td>\n",
       "    </tr>\n",
       "    <tr>\n",
       "      <th>12</th>\n",
       "      <td>02</td>\n",
       "      <td>3</td>\n",
       "      <td>3.813862</td>\n",
       "    </tr>\n",
       "    <tr>\n",
       "      <th>13</th>\n",
       "      <td>02</td>\n",
       "      <td>4</td>\n",
       "      <td>4.054415</td>\n",
       "    </tr>\n",
       "    <tr>\n",
       "      <th>14</th>\n",
       "      <td>02</td>\n",
       "      <td>5</td>\n",
       "      <td>3.784443</td>\n",
       "    </tr>\n",
       "    <tr>\n",
       "      <th>15</th>\n",
       "      <td>02</td>\n",
       "      <td>6</td>\n",
       "      <td>3.662581</td>\n",
       "    </tr>\n",
       "    <tr>\n",
       "      <th>16</th>\n",
       "      <td>02</td>\n",
       "      <td>7</td>\n",
       "      <td>3.967795</td>\n",
       "    </tr>\n",
       "    <tr>\n",
       "      <th>17</th>\n",
       "      <td>02</td>\n",
       "      <td>8</td>\n",
       "      <td>3.740141</td>\n",
       "    </tr>\n",
       "    <tr>\n",
       "      <th>18</th>\n",
       "      <td>02</td>\n",
       "      <td>9</td>\n",
       "      <td>4.228852</td>\n",
       "    </tr>\n",
       "    <tr>\n",
       "      <th>19</th>\n",
       "      <td>02</td>\n",
       "      <td>10</td>\n",
       "      <td>4.454070</td>\n",
       "    </tr>\n",
       "  </tbody>\n",
       "</table>\n",
       "</div>"
      ],
      "text/plain": [
       "   month  user_id  length_of_stay\n",
       "10    02        1        5.263547\n",
       "11    02        2        3.832899\n",
       "12    02        3        3.813862\n",
       "13    02        4        4.054415\n",
       "14    02        5        3.784443\n",
       "15    02        6        3.662581\n",
       "16    02        7        3.967795\n",
       "17    02        8        3.740141\n",
       "18    02        9        4.228852\n",
       "19    02       10        4.454070"
      ]
     },
     "execution_count": 125,
     "metadata": {},
     "output_type": "execute_result"
    }
   ],
   "source": [
    "q2_months_los_feb"
   ]
  },
  {
   "cell_type": "code",
   "execution_count": 167,
   "id": "ae93b5d8",
   "metadata": {},
   "outputs": [
    {
     "data": {
      "image/png": "[encoded data removed]",
      "text/plain": [
       "<Figure size 432x288 with 1 Axes>"
      ]
     },
     "metadata": {
      "needs_background": "light"
     },
     "output_type": "display_data"
    }
   ],
   "source": [
    "plt.bar(q2_months_los_jan[\"user_id\"], q2_months_los_jan[\"length_of_stay\"], \n",
    "        color=['red', 'black', 'black', 'black', 'black', 'black', 'black', 'black', 'black', 'black'])\n",
    "plt.title(\"Length of Stay by User ID in January\")\n",
    "plt.xlabel(\"User ID\")\n",
    "plt.ylabel(\"Average Length of Stay (Days)\")\n",
    "plt.ylim(0,6)\n",
    "plt.savefig(\"../Customer-Success-Team-Project/Images/LOSjan.png\")\n",
    "plt.show()\n"
   ]
  },
  {
   "cell_type": "code",
   "execution_count": 169,
   "id": "71457248",
   "metadata": {},
   "outputs": [
    {
     "data": {
      "image/png": "[encoded data removed]",
      "text/plain": [
       "<Figure size 432x288 with 1 Axes>"
      ]
     },
     "metadata": {
      "needs_background": "light"
     },
     "output_type": "display_data"
    }
   ],
   "source": [
    "plt.bar(q2_months_los_feb[\"user_id\"], q2_months_los_feb[\"length_of_stay\"],\n",
    "        color=['red', 'black', 'black', 'black', 'black', 'black', 'black', 'black', 'black', 'black'])\n",
    "plt.title(\"Length of Stay by User ID in February\")\n",
    "plt.xlabel(\"User ID\")\n",
    "plt.ylabel(\"Average Length of Stay (Days)\")\n",
    "plt.ylim(0,6)\n",
    "plt.savefig(\"../Customer-Success-Team-Project/Images/LOSfeb.png\")\n",
    "plt.show()\n"
   ]
  },
  {
   "cell_type": "code",
   "execution_count": 170,
   "id": "4c03d06a",
   "metadata": {},
   "outputs": [
    {
     "data": {
      "text/plain": [
       "1    24\n",
       "3    23\n",
       "4    20\n",
       "2    18\n",
       "Name: group_id, dtype: int64"
      ]
     },
     "execution_count": 170,
     "metadata": {},
     "output_type": "execute_result"
    }
   ],
   "source": [
    "q1_user_groups_value_counts = q1_user_groups[\"group_id\"].value_counts()\n",
    "q1_user_groups_value_counts"
   ]
  },
  {
   "cell_type": "code",
   "execution_count": 166,
   "id": "f8fe7015",
   "metadata": {},
   "outputs": [
    {
     "data": {
      "image/png": "[encoded data removed]",
      "text/plain": [
       "<Figure size 432x288 with 1 Axes>"
      ]
     },
     "metadata": {
      "needs_background": "light"
     },
     "output_type": "display_data"
    }
   ],
   "source": [
    "q1_user_groups_value_counts.plot.bar()\n",
    "plt.xticks(rotation=0, horizontalalignment=\"center\")\n",
    "plt.title(\"Number of Users per Group ID\")\n",
    "plt.xlabel(\"Group ID\")\n",
    "plt.ylabel(\"Number of Users\")\n",
    "plt.savefig(\"../Customer-Success-Team-Project/Images/NumberofUsersperGroupID.png\")\n",
    "plt.show()"
   ]
  },
  {
   "cell_type": "markdown",
   "id": "01377ca3",
   "metadata": {},
   "source": [
    "### Observations:\n",
    "\n",
    "● User_ID 1 had a higher average length of stay in February as compared to other user_ids. This is an increase from length of stay in January, which is similiar to other user_ids. \n",
    "\n",
    "● User_ID 1 is assigned to Group 1, which has the most users (24) across the four groups. \n",
    "\n",
    "● Given Group 1 (which contains User_ID 1) has the most users, it is likely this is the root cause for a higher average length of stay when compared to other groups with less user_ids. \n",
    "\n",
    "● To implement a fairer way to measure user average length of stay, it is important to look at how users are grouped together and sample sizes are relatively close to ensure a larger group size is not inherently driving the average length of stay to increase."
   ]
  },
  {
   "cell_type": "code",
   "execution_count": null,
   "id": "0dc34968",
   "metadata": {},
   "outputs": [],
   "source": []
  },
  {
   "cell_type": "code",
   "execution_count": 49,
   "id": "8c01e2b6",
   "metadata": {},
   "outputs": [
    {
     "data": {
      "text/html": [
       "<div>\n",
       "<style scoped>\n",
       "    .dataframe tbody tr th:only-of-type {\n",
       "        vertical-align: middle;\n",
       "    }\n",
       "\n",
       "    .dataframe tbody tr th {\n",
       "        vertical-align: top;\n",
       "    }\n",
       "\n",
       "    .dataframe thead th {\n",
       "        text-align: right;\n",
       "    }\n",
       "</style>\n",
       "<table border=\"1\" class=\"dataframe\">\n",
       "  <thead>\n",
       "    <tr style=\"text-align: right;\">\n",
       "      <th></th>\n",
       "      <th>date</th>\n",
       "      <th>length_of_stay</th>\n",
       "    </tr>\n",
       "  </thead>\n",
       "  <tbody>\n",
       "    <tr>\n",
       "      <th>0</th>\n",
       "      <td>2020-03-31</td>\n",
       "      <td>5.086791</td>\n",
       "    </tr>\n",
       "    <tr>\n",
       "      <th>1</th>\n",
       "      <td>2020-04-30</td>\n",
       "      <td>5.156738</td>\n",
       "    </tr>\n",
       "    <tr>\n",
       "      <th>2</th>\n",
       "      <td>2020-05-31</td>\n",
       "      <td>4.993787</td>\n",
       "    </tr>\n",
       "    <tr>\n",
       "      <th>3</th>\n",
       "      <td>2020-06-30</td>\n",
       "      <td>5.364481</td>\n",
       "    </tr>\n",
       "    <tr>\n",
       "      <th>4</th>\n",
       "      <td>2020-07-31</td>\n",
       "      <td>5.523364</td>\n",
       "    </tr>\n",
       "  </tbody>\n",
       "</table>\n",
       "</div>"
      ],
      "text/plain": [
       "         date  length_of_stay\n",
       "0  2020-03-31        5.086791\n",
       "1  2020-04-30        5.156738\n",
       "2  2020-05-31        4.993787\n",
       "3  2020-06-30        5.364481\n",
       "4  2020-07-31        5.523364"
      ]
     },
     "execution_count": 49,
     "metadata": {},
     "output_type": "execute_result"
    }
   ],
   "source": [
    "q4_client_monthly_los.head()"
   ]
  },
  {
   "cell_type": "code",
   "execution_count": 45,
   "id": "0623e733",
   "metadata": {},
   "outputs": [
    {
     "data": {
      "text/html": [
       "<div>\n",
       "<style scoped>\n",
       "    .dataframe tbody tr th:only-of-type {\n",
       "        vertical-align: middle;\n",
       "    }\n",
       "\n",
       "    .dataframe tbody tr th {\n",
       "        vertical-align: top;\n",
       "    }\n",
       "\n",
       "    .dataframe thead th {\n",
       "        text-align: right;\n",
       "    }\n",
       "</style>\n",
       "<table border=\"1\" class=\"dataframe\">\n",
       "  <thead>\n",
       "    <tr style=\"text-align: right;\">\n",
       "      <th></th>\n",
       "      <th>date</th>\n",
       "      <th>score</th>\n",
       "      <th>sample_size</th>\n",
       "      <th>user_id</th>\n",
       "    </tr>\n",
       "  </thead>\n",
       "  <tbody>\n",
       "    <tr>\n",
       "      <th>0</th>\n",
       "      <td>2022-01-01</td>\n",
       "      <td>4.16</td>\n",
       "      <td>48</td>\n",
       "      <td>42</td>\n",
       "    </tr>\n",
       "    <tr>\n",
       "      <th>1</th>\n",
       "      <td>2022-01-01</td>\n",
       "      <td>6.60</td>\n",
       "      <td>45</td>\n",
       "      <td>56</td>\n",
       "    </tr>\n",
       "    <tr>\n",
       "      <th>2</th>\n",
       "      <td>2022-01-01</td>\n",
       "      <td>3.80</td>\n",
       "      <td>36</td>\n",
       "      <td>77</td>\n",
       "    </tr>\n",
       "    <tr>\n",
       "      <th>3</th>\n",
       "      <td>2022-01-01</td>\n",
       "      <td>4.64</td>\n",
       "      <td>48</td>\n",
       "      <td>43</td>\n",
       "    </tr>\n",
       "    <tr>\n",
       "      <th>4</th>\n",
       "      <td>2022-01-01</td>\n",
       "      <td>4.39</td>\n",
       "      <td>39</td>\n",
       "      <td>54</td>\n",
       "    </tr>\n",
       "  </tbody>\n",
       "</table>\n",
       "</div>"
      ],
      "text/plain": [
       "         date  score  sample_size  user_id\n",
       "0  2022-01-01   4.16           48       42\n",
       "1  2022-01-01   6.60           45       56\n",
       "2  2022-01-01   3.80           36       77\n",
       "3  2022-01-01   4.64           48       43\n",
       "4  2022-01-01   4.39           39       54"
      ]
     },
     "execution_count": 45,
     "metadata": {},
     "output_type": "execute_result"
    }
   ],
   "source": [
    "q1_monthly_user_scores.head()"
   ]
  },
  {
   "cell_type": "code",
   "execution_count": 48,
   "id": "a762c187",
   "metadata": {},
   "outputs": [
    {
     "data": {
      "text/html": [
       "<div>\n",
       "<style scoped>\n",
       "    .dataframe tbody tr th:only-of-type {\n",
       "        vertical-align: middle;\n",
       "    }\n",
       "\n",
       "    .dataframe tbody tr th {\n",
       "        vertical-align: top;\n",
       "    }\n",
       "\n",
       "    .dataframe thead th {\n",
       "        text-align: right;\n",
       "    }\n",
       "</style>\n",
       "<table border=\"1\" class=\"dataframe\">\n",
       "  <thead>\n",
       "    <tr style=\"text-align: right;\">\n",
       "      <th></th>\n",
       "      <th>user_id</th>\n",
       "      <th>score</th>\n",
       "      <th>sample_size</th>\n",
       "      <th>date</th>\n",
       "    </tr>\n",
       "  </thead>\n",
       "  <tbody>\n",
       "    <tr>\n",
       "      <th>0</th>\n",
       "      <td>3.0</td>\n",
       "      <td>1.95</td>\n",
       "      <td>90.0</td>\n",
       "      <td>2020-01-01</td>\n",
       "    </tr>\n",
       "    <tr>\n",
       "      <th>1</th>\n",
       "      <td>17.0</td>\n",
       "      <td>1.76</td>\n",
       "      <td>88.0</td>\n",
       "      <td>2020-01-01</td>\n",
       "    </tr>\n",
       "    <tr>\n",
       "      <th>2</th>\n",
       "      <td>3.0</td>\n",
       "      <td>1.83</td>\n",
       "      <td>119.0</td>\n",
       "      <td>2020-02-01</td>\n",
       "    </tr>\n",
       "    <tr>\n",
       "      <th>3</th>\n",
       "      <td>17.0</td>\n",
       "      <td>1.81</td>\n",
       "      <td>105.0</td>\n",
       "      <td>2020-02-01</td>\n",
       "    </tr>\n",
       "    <tr>\n",
       "      <th>4</th>\n",
       "      <td>3.0</td>\n",
       "      <td>2.11</td>\n",
       "      <td>113.0</td>\n",
       "      <td>2020-03-01</td>\n",
       "    </tr>\n",
       "  </tbody>\n",
       "</table>\n",
       "</div>"
      ],
      "text/plain": [
       "   user_id  score  sample_size        date\n",
       "0      3.0   1.95         90.0  2020-01-01\n",
       "1     17.0   1.76         88.0  2020-01-01\n",
       "2      3.0   1.83        119.0  2020-02-01\n",
       "3     17.0   1.81        105.0  2020-02-01\n",
       "4      3.0   2.11        113.0  2020-03-01"
      ]
     },
     "execution_count": 48,
     "metadata": {},
     "output_type": "execute_result"
    }
   ],
   "source": [
    "q3_user_scores.head()"
   ]
  },
  {
   "cell_type": "code",
   "execution_count": null,
   "id": "95159461",
   "metadata": {},
   "outputs": [],
   "source": []
  },
  {
   "cell_type": "code",
   "execution_count": null,
   "id": "50163135",
   "metadata": {},
   "outputs": [],
   "source": []
  },
  {
   "cell_type": "code",
   "execution_count": null,
   "id": "37111a78",
   "metadata": {},
   "outputs": [],
   "source": []
  },
  {
   "cell_type": "code",
   "execution_count": 50,
   "id": "8a7348dc",
   "metadata": {},
   "outputs": [
    {
     "data": {
      "text/html": [
       "<div>\n",
       "<style scoped>\n",
       "    .dataframe tbody tr th:only-of-type {\n",
       "        vertical-align: middle;\n",
       "    }\n",
       "\n",
       "    .dataframe tbody tr th {\n",
       "        vertical-align: top;\n",
       "    }\n",
       "\n",
       "    .dataframe thead th {\n",
       "        text-align: right;\n",
       "    }\n",
       "</style>\n",
       "<table border=\"1\" class=\"dataframe\">\n",
       "  <thead>\n",
       "    <tr style=\"text-align: right;\">\n",
       "      <th></th>\n",
       "      <th>date</th>\n",
       "      <th>cases</th>\n",
       "    </tr>\n",
       "  </thead>\n",
       "  <tbody>\n",
       "    <tr>\n",
       "      <th>0</th>\n",
       "      <td>2020-03-06</td>\n",
       "      <td>1</td>\n",
       "    </tr>\n",
       "    <tr>\n",
       "      <th>1</th>\n",
       "      <td>2020-03-07</td>\n",
       "      <td>2</td>\n",
       "    </tr>\n",
       "    <tr>\n",
       "      <th>2</th>\n",
       "      <td>2020-03-08</td>\n",
       "      <td>2</td>\n",
       "    </tr>\n",
       "    <tr>\n",
       "      <th>3</th>\n",
       "      <td>2020-03-09</td>\n",
       "      <td>2</td>\n",
       "    </tr>\n",
       "    <tr>\n",
       "      <th>4</th>\n",
       "      <td>2020-03-10</td>\n",
       "      <td>2</td>\n",
       "    </tr>\n",
       "  </tbody>\n",
       "</table>\n",
       "</div>"
      ],
      "text/plain": [
       "         date  cases\n",
       "0  2020-03-06      1\n",
       "1  2020-03-07      2\n",
       "2  2020-03-08      2\n",
       "3  2020-03-09      2\n",
       "4  2020-03-10      2"
      ]
     },
     "execution_count": 50,
     "metadata": {},
     "output_type": "execute_result"
    }
   ],
   "source": [
    "q4_covid_census.head()"
   ]
  },
  {
   "cell_type": "code",
   "execution_count": null,
   "id": "f5d1115a",
   "metadata": {},
   "outputs": [],
   "source": []
  },
  {
   "cell_type": "code",
   "execution_count": null,
   "id": "e818415f",
   "metadata": {},
   "outputs": [],
   "source": []
  },
  {
   "cell_type": "code",
   "execution_count": null,
   "id": "7e3065bf",
   "metadata": {},
   "outputs": [],
   "source": []
  }
 ],
 "metadata": {
  "kernelspec": {
   "display_name": "Python [conda env:PythonData38] *",
   "language": "python",
   "name": "conda-env-PythonData38-py"
  },
  "language_info": {
   "codemirror_mode": {
    "name": "ipython",
    "version": 3
   },
   "file_extension": ".py",
   "mimetype": "text/x-python",
   "name": "python",
   "nbconvert_exporter": "python",
   "pygments_lexer": "ipython3",
   "version": "3.8.12"
  }
 },
 "nbformat": 4,
 "nbformat_minor": 5
}
